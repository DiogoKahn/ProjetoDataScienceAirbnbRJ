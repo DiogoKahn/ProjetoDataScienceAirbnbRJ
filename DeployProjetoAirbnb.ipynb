{
 "cells": [
  {
   "cell_type": "code",
   "execution_count": 1,
   "metadata": {
    "colab": {
     "base_uri": "https://localhost:8080/"
    },
    "executionInfo": {
     "elapsed": 279,
     "status": "ok",
     "timestamp": 1645557796129,
     "user": {
      "displayName": "Diogo Giarranti Kahn",
      "photoUrl": "https://lh3.googleusercontent.com/a-/AOh14Gip1xyWhNXo3R5zwppEt12JnQ96w5NatmZxqPbu3A=s64",
      "userId": "05180359562245611829"
     },
     "user_tz": 180
    },
    "id": "EMkjrjDakbLW",
    "outputId": "84baed4a-bf4f-45e4-bc0a-785b34efcf93"
   },
   "outputs": [
    {
     "name": "stdout",
     "output_type": "stream",
     "text": [
      "{'property_type_Apartment': 0, 'property_type_Bed and breakfast': 0, 'property_type_Condominium': 0, 'property_type_Guest suite': 0, 'property_type_Guesthouse': 0, 'property_type_Hostel': 0, 'property_type_House': 0, 'property_type_Loft': 0, 'property_type_Outros': 0, 'property_type_Serviced apartment': 0, 'room_type_Entire home/apt': 0, 'room_type_Hotel room': 0, 'room_type_Private room': 0, 'room_type_Shared room': 0, 'cancelation_policy_flexible': 0, 'cancelation_policy_moderate': 0, 'cancelation_policy_strict': 0, 'cancelation_policy_strict_14_with_grace_period': 0}\n"
     ]
    },
    {
     "name": "stderr",
     "output_type": "stream",
     "text": [
      "2022-02-23 20:52:30.434 \n",
      "  \u001b[33m\u001b[1mWarning:\u001b[0m to view this Streamlit app on a browser, run it with the following\n",
      "  command:\n",
      "\n",
      "    streamlit run C:\\Users\\diogo\\anaconda3\\lib\\site-packages\\ipykernel_launcher.py [ARGUMENTS]\n"
     ]
    }
   ],
   "source": [
    "import pandas as pd\n",
    "import streamlit as st\n",
    "import joblib\n",
    "\n",
    "\n",
    "x_numericos = {'latitude': 0, 'longitude': 0, 'accommodates': 0, 'bathrooms': 0, 'bedrooms': 0, 'beds': 0, 'extra_people': 0,\n",
    "               'minimum_nights': 0, 'ano': 0, 'mes': 0, 'n_amenities': 0, 'host_listings_count': 0}\n",
    "\n",
    "x_tf = {'host_is_superhost': 0, 'instant_bookable': 0}\n",
    "\n",
    "x_listas = {'property_type': ['Apartment', 'Bed and breakfast', 'Condominium', 'Guest suite', 'Guesthouse', 'Hostel', 'House', 'Loft', 'Outros', 'Serviced apartment'],\n",
    "            'room_type': ['Entire home/apt', 'Hotel room', 'Private room', 'Shared room'],\n",
    "            'cancelation_policy': ['flexible', 'moderate', 'strict', 'strict_14_with_grace_period']\n",
    "            }\n",
    "\n",
    "\n",
    "dic = {}\n",
    "for item in x_listas:\n",
    "  for valor in x_listas[item]:\n",
    "    dic[f'{item}_{valor}'] = 0\n",
    "\n",
    "print(dic)\n",
    "# Criando botões\n",
    "for item in x_numericos:\n",
    "  if item == 'latitude' or item == 'longitude':\n",
    "    valor = st.number_input(f'{item}',step=0.00001, value=0.0, format=\"%.5f\")\n",
    "  elif item == 'extra_people':\n",
    "    valor = st.number_input(f'{item}',step=0.01, value=0.0)\n",
    "  else:\n",
    "    valor = st.number_input(f'{item}', step=1, value=0)\n",
    "    x_numericos[item] = valor\n",
    "\n",
    "\n",
    "for item in x_tf:\n",
    "  valor = st.selectbox(f'{item}', ('Sim', 'Não'))\n",
    "  if valor == 'Sim':\n",
    "    x_tf[item] = 1\n",
    "  else:\n",
    "    x_tf[item] = 0\n",
    "\n",
    "\n",
    "for item in x_listas:\n",
    "  valor = st.selectbox(f'{item}', x_listas[item])\n",
    "  dic[f'{item}_{valor}'] = 1\n",
    "\n",
    "botao = st.button('Prever valor de imóvel')\n",
    "\n",
    "if botao:\n",
    "  dic.update(x_numericos)\n",
    "  dic.update(x_tf)\n",
    "  valores_x = pd.DataFrame(dic, index=[0])\n",
    "  modelo = joblib.load('modelo.joblib')\n",
    "  preco = modelo.predict(valores_x)\n",
    "  st.write(preco[0])\n"
   ]
  },
  {
   "cell_type": "code",
   "execution_count": null,
   "metadata": {},
   "outputs": [],
   "source": []
  }
 ],
 "metadata": {
  "colab": {
   "authorship_tag": "ABX9TyO0rrQ5k4zdJ7LTbsn7BvmS",
   "mount_file_id": "14zcWxHt7ms8PBcRDzAEe0UfQtyq28ne7",
   "name": "DeployProjetoAirbnb.ipynb",
   "provenance": []
  },
  "kernelspec": {
   "display_name": "Python 3",
   "language": "python",
   "name": "python3"
  },
  "language_info": {
   "codemirror_mode": {
    "name": "ipython",
    "version": 3
   },
   "file_extension": ".py",
   "mimetype": "text/x-python",
   "name": "python",
   "nbconvert_exporter": "python",
   "pygments_lexer": "ipython3",
   "version": "3.8.5"
  }
 },
 "nbformat": 4,
 "nbformat_minor": 1
}
